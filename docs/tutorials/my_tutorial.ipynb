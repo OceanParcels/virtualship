{
 "cells": [
  {
   "cell_type": "markdown",
   "metadata": {},
   "source": [
    "# Ocean and Sea Level (Research Proposal)"
   ]
  },
  {
   "cell_type": "markdown",
   "metadata": {},
   "source": [
    "***"
   ]
  },
  {
   "cell_type": "markdown",
   "metadata": {},
   "source": [
    "## Introduction"
   ]
  },
  {
   "cell_type": "markdown",
   "metadata": {},
   "source": [
    "Dear Student, \n",
    "\n",
    "Congratulations on receiving an early career research grant for ship time on a scientific research vessel! This achievement is a testament to your hard work and commitment to advancing marine science. The opportunity will undoubtedly enhance your research and contribute significantly to our understanding of marine science.  \n",
    "\n",
    "You will have access to the ship for a three-week period—a duration identified as a favorable trade-off between research time and ensuring an enjoyable vessel experience. Your vessel will be equipped with two vessel-mounted ADCPs, a CTD, and can collect underway data of temperature and salinity from 2 meters below the hull of the ship. In addition, you can deploy up to 30 Argo floats and/or 30 surface drifters. A detailed plan of your route, timing and required instruments needs to be sent in for approval/grading. \n",
    "\n",
    "To get a taste of what it’s like to board a real vessel, you'll find some general information that is shared with all cruise participants **/LINK/Here**. You might also like to watch the video clip about life onboard the Research Vessel Southern Surveyor: [Life Onboard RV Southern Surveyor](https://www.youtube.com/watch?v=hUI0TA-gCK0)."
   ]
  },
  {
   "cell_type": "markdown",
   "metadata": {},
   "source": [
    "In your grant application you’ve shown great potential, so what and where you want to research is completely up to you! But **/LINK/** here’s a list of interesting regions or phenomena to spark your imagination and you’ll get an opportunity to be in contact with experienced oceanographers.  \n",
    "\n",
    "We’ve prepared some exercises to help you get familiar with the type of data that will be collected by the research vessel. You will be graded on your answers below. But first let’s give you some more information on the different scientific instruments.  "
   ]
  },
  {
   "cell_type": "markdown",
   "metadata": {},
   "source": [
    "**Copy from cruise_plan_info**"
   ]
  },
  {
   "cell_type": "markdown",
   "metadata": {},
   "source": [
    "**Derive assignments from Preparatory_exercises**"
   ]
  },
  {
   "cell_type": "markdown",
   "metadata": {},
   "source": [
    "Now that you are familiar with the types of instruments and what type of research you could do with them, it’s time to formulate your own scientific question and methodology.  \n",
    "\n",
    "When preparing your cruise proposal, please bear in mind the different lead times between the submission of the proposal and the expedition being carried out. A lead time of roughly one year should be considered for regular proposals. The lead time for larger expeditions is about one and a half to two years minimum. \n",
    "\n",
    "With respect to time management, please note that diplomatic proposals for research permits in Exclusive Economic Zones (EEZs) of other states must generally be submitted eight months prior to the start of the expedition. Work in difficult areas (for example where there is piracy and the risk of war) must be refrained from. "
   ]
  },
  {
   "cell_type": "markdown",
   "metadata": {},
   "source": [
    "---"
   ]
  },
  {
   "cell_type": "markdown",
   "metadata": {},
   "source": [
    "## Outline "
   ]
  },
  {
   "cell_type": "markdown",
   "metadata": {},
   "source": [
    "**Project Data**\n",
    "1. **Title of the proposal**\n",
    "\n",
    "Please choose an appropriate and concise title for the expedition that refers to the work area. \n",
    "\n",
    "2. **Cruise participants**\n",
    "\n",
    "Please provide a list of anticipated cruise participants, including student numbers.  "
   ]
  },
  {
   "cell_type": "markdown",
   "metadata": {},
   "source": [
    "**Methodology**"
   ]
  },
  {
   "cell_type": "markdown",
   "metadata": {},
   "source": [
    "3. **Research question**\n",
    "\n",
    "Please provide a clear and measurable research question. "
   ]
  },
  {
   "cell_type": "markdown",
   "metadata": {},
   "source": [
    "4. **Hypothesis**\n",
    "\n",
    "Please explain the anticipated outcomes of your research.  "
   ]
  },
  {
   "cell_type": "markdown",
   "metadata": {},
   "source": [
    "5. **Choice of vessel**\n",
    "\n",
    "Please state the preferred research vessel for this cruise. \n",
    "Choose from https://www.nioz.nl/national-marine-facilities/research-vessels \n",
    "\n",
    "If the NIOZ vessels don’t suffice, pick any of the ships available through MFP and explain why you need this ship. https://nioz.marinefacilitiesplanning.com/programme \n"
   ]
  },
  {
   "cell_type": "markdown",
   "metadata": {},
   "source": [
    "6. **Scientific equipment required**\n",
    "   \n",
    "Please tick both on-board and external equipment needed during the cruise  \n",
    "- [ ] ADCP (OceanObserver max depth 1000m with bins every 24 meters) \n",
    "\n",
    "- [ ] ADCP (SeaSeven max depth 150m with bins every 4 meters) \n",
    "\n",
    "- [ ] CTD \n",
    "\n",
    "- [ ] Argo floats \n",
    "\n",
    "- [ ] Drifters \n",
    "\n",
    "- [ ] XBTs\n"
   ]
  },
  {
   "cell_type": "markdown",
   "metadata": {},
   "source": [
    "7. **Cruise Data**\n",
    "\n",
    "A map and cruise plan can be created through https://nioz.marinefacilitiesplanning.com/cruiselocationplanning# "
   ]
  },
  {
   "cell_type": "markdown",
   "metadata": {},
   "source": [
    "8. **Cruise period**\n",
    "\n",
    "Please state the preferred year, season, and/or month(s) for the cruise, and provide reasons for restrictions to limited periods. \n"
   ]
  },
  {
   "cell_type": "markdown",
   "metadata": {},
   "source": [
    "9. **Map of working area**\n",
    "\n",
    "Please upload a high-resolution map of the working area and stations.  "
   ]
  },
  {
   "cell_type": "markdown",
   "metadata": {},
   "source": [
    "10. **Cruise departure and arrival port; and transit days**\n",
    "\n",
    "Please name your preferred port of departure and preferred port of arrival. \n",
    "\n",
    "Please enter the number of days required for transit from the preferred port of departure to the working area and the number of days required for transit from the working area to the preferred port of arrival, each rounded to the nearest whole number. Please note that transit times from the port of departure to the first station and from the last station in the working area to the port of arrival are regarded as work days at sea, so they are deducted from your three-week availability. "
   ]
  },
  {
   "cell_type": "markdown",
   "metadata": {},
   "source": [
    "11. **Working areas / EEZs**\n",
    "\n",
    "Please indicate all nations from which research permits would need to be obtained on the basis of planned work in the respective Exclusive Economic Zones (EEZs)"
   ]
  },
  {
   "cell_type": "markdown",
   "metadata": {},
   "source": [
    "12. **Scientific work program**\n",
    "\n",
    "Please provide a scheme with number of necessary work and in-transit days within the working areas and station times. This can be downloaded from https://nioz.marinefacilitiesplanning.com/cruiselocationplanning# using the Export button on the right. Please export coordinates in DD=Decimal Degrees.  \n",
    "\n",
    "Please indicate at each station what instruments you want to deploy (CTD, Argo float, drifter, XBT) "
   ]
  },
  {
   "cell_type": "markdown",
   "metadata": {},
   "source": [
    "13. **Argo settings (optional)**\n",
    "\n",
    "If you plan to use Argo floats, please give the required depth and cycle duration.  "
   ]
  },
  {
   "cell_type": "markdown",
   "metadata": {},
   "source": [
    "14. **Feasibility**\n",
    "\n",
    "Please explain how the methodology detailed in this proposal aims to answer your research question.  "
   ]
  },
  {
   "cell_type": "code",
   "execution_count": null,
   "metadata": {},
   "outputs": [],
   "source": []
  },
  {
   "cell_type": "code",
   "execution_count": null,
   "metadata": {},
   "outputs": [],
   "source": []
  },
  {
   "cell_type": "code",
   "execution_count": 4,
   "metadata": {},
   "outputs": [
    {
     "name": "stdout",
     "output_type": "stream",
     "text": [
      "Still a work in progress\n"
     ]
    }
   ],
   "source": [
    "print(\"Still a work in progress\")"
   ]
  },
  {
   "cell_type": "code",
   "execution_count": null,
   "metadata": {},
   "outputs": [],
   "source": []
  }
 ],
 "metadata": {
  "kernelspec": {
   "display_name": "Python 3 (ipykernel)",
   "language": "python",
   "name": "python3"
  },
  "language_info": {
   "codemirror_mode": {
    "name": "ipython",
    "version": 3
   },
   "file_extension": ".py",
   "mimetype": "text/x-python",
   "name": "python",
   "nbconvert_exporter": "python",
   "pygments_lexer": "ipython3",
   "version": "3.10.15"
  }
 },
 "nbformat": 4,
 "nbformat_minor": 4
}
