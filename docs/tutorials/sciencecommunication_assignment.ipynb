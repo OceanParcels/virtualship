{
 "cells": [
  {
   "cell_type": "markdown",
   "metadata": {},
   "source": [
    "## Science Communication Assignment\n",
    "\n",
    "_As used during the Dynamical Oceanography 2023/24 course at Utrecht University_"
   ]
  },
  {
   "cell_type": "markdown",
   "metadata": {},
   "source": [
    "### Assignment description\n",
    "\n",
    "- You will write a popular scientific article about the virtual expedition. \n",
    "    - This is an individual assignment.\n",
    "    - The length of the article should be between 400 and 700 words. \n",
    "    - The audience of your science communication article are Physics BSc students.\n",
    "    - You need to include and refer to the findings/results of at least two scientific articles as background.\n",
    "\n",
    "    - For examples of the style you could use, check out [this article](https://physicsworld.com/a/20000-pings-under-the-sea/) (although at almost 3,000 words that article is way longer than expected here), or [this article](https://blogs.scientificamerican.com/expeditions/to-hades-and-back-exploring-the-deepest-part-of-the-ocean/).\n",
    "    - You are allowed to use Generative AI to create photos of the expedition (but only for photos; no other uses of Generative AI are allowed!) \n",
    "- Submit a first draft of the article to Blackboard by 27 March 17:00. \n",
    "- Every student will provide formative feedback for two  other articles. Deadline is 2 April 17:00. This formative feedback will be graded and will count 25% of the mark for this assignment. \n",
    "- You will incorporate the formative feedback where appropriate into a final version of the article and submit that as a pdf on Blackboard by 5 April.\n",
    "- The articles will be graded by the lecturer and the Teaching Assistants\n"
   ]
  },
  {
   "cell_type": "markdown",
   "metadata": {},
   "source": [
    "### Marking Rubric for the article\n",
    "\n",
    "|Rubric|What is extra?|Sufficient|What is missing?|\n",
    "| --- | --- | --- | --- |\n",
    "|Introduction to the region | | The physical oceanography of the region is clearly explained. | |\n",
    "|Research motivation | | The motivation to do an expedition in this region is clearly articulated. | |\t\n",
    "|Explanation of scientific papers | | The results of two scientific papers are described and incorporated in the text.| |\n",
    "|Factual correctness | | The scientific claims and information presented are accurate and supported by evidence. | |\n",
    "|Effect | | The goal/aim of the text is clear. The article contributes meaningfully to the reader's understanding of the topic. | |\n",
    "|Use of visuals | | At least one visual (image, graph, or diagram) is present. It is used effectively to enhance understanding and engagement. | |\n",
    "|Emotion/ personalization | | The text has a clear main character and includes reference to (personal) emotions. | |\n",
    "|Narrative structure | | The narrative structure is such that readers are enticed to read to the end of the text. | |\n",
    "|Suitability for the audience | | The text is understandable for the audience, while also not being too simplistic. | |\t\n",
    "|Writing style | | The text is within the word limits, and has few spelling and grammatical errors. | |\n",
    "\n",
    "\n"
   ]
  },
  {
   "cell_type": "markdown",
   "metadata": {},
   "source": [
    "### Marking Rubric for the peer feedback\n",
    "\n",
    "| Rubric | What is extra? | Sufficient | What is missing? |\n",
    "| --- | --- | --- | --- |\n",
    "| Constructive criticism | \t| The peer feedback includes some critical reflections, and these are constructively phrased| |\n",
    "|Focused on the content\t| |\tThe peer feedback focuses on the writing, not the writer | |\n",
    "Specific  | |The peer feedback points to specific places where the draft can be improved\t | |\n",
    "Prioritized comments | | The peer feedback is an ordered list with the most important comments at the top | |\n",
    "Considerate and thoughtful | | The peer feedback is kind and does not jeopardize social safety (i.e. not ‘ad hominin’) | |\n"
   ]
  },
  {
   "cell_type": "markdown",
   "metadata": {},
   "source": []
  },
  {
   "cell_type": "markdown",
   "metadata": {},
   "source": []
  },
  {
   "cell_type": "markdown",
   "metadata": {},
   "source": []
  }
 ],
 "metadata": {
  "language_info": {
   "name": "python"
  }
 },
 "nbformat": 4,
 "nbformat_minor": 2
}
