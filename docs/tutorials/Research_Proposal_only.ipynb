{
 "cells": [
  {
   "cell_type": "markdown",
   "metadata": {},
   "source": [
    "# Research Proposal for ECR grant"
   ]
  },
  {
   "cell_type": "markdown",
   "metadata": {},
   "source": [
    "***"
   ]
  },
  {
   "cell_type": "markdown",
   "metadata": {},
   "source": [
    "## Introduction"
   ]
  },
  {
   "cell_type": "markdown",
   "metadata": {},
   "source": [
    "Dear Student, \n",
    "\n",
    "Congratulations on receiving an early career research grant for ship time on a scientific research vessel! This achievement is a testament to your hard work and commitment to advancing marine science. The opportunity will undoubtedly enhance your research and contribute significantly to our understanding of marine science.  \n",
    "\n",
    "You will have access to the ship for a three-week period—a duration identified as a favorable trade-off between research time and ensuring an enjoyable vessel experience. Your vessel will be equipped with two vessel-mounted ADCPs, a CTD, and can collect underway data of temperature and salinity from 2 meters below the hull of the ship. In addition, you can deploy XBTs and up to 30 Argo floats and/or 30 surface drifters. A detailed plan of your route, timing and required instruments needs to be sent in for approval/grading. \n",
    "\n",
    "To get a taste of what it’s like to board a real vessel, you'll find some <a href=\"https://surfdrive.surf.nl/files/index.php/s/i2u2zqNNFECbOlJ\" style=\"color:red;\">general information that is shared with all cruise participants here</a>.\n",
    "\n",
    "You might also like to watch the video clip about [Life on board a research ship (RRS Discovery)](https://youtu.be/IHM7JFWg9qw?feature=shared) or the one below. \n",
    "<iframe width=\"560\" height=\"315\" src=\"https://www.youtube.com/embed/hUl0TA-gCK0?si=7egcUTtXGAfSOU_S\" title=\"YouTube video player\" frameborder=\"0\" allow=\"accelerometer; autoplay; clipboard-write; encrypted-media; gyroscope; picture-in-picture; web-share\" referrerpolicy=\"strict-origin-when-cross-origin\" allowfullscreen></iframe>"
   ]
  },
  {
   "cell_type": "markdown",
   "metadata": {},
   "source": [
    "In your grant application you’ve shown great potential, so what and where you want to research is completely up to you! But <a href=\"https://surfdrive.surf.nl/files/index.php/s/U1dQKsjg9MkFNvm\" style=\"color:red;\">here's a list of interesting regions</a> or phenomena to spark your imagination, and you’ll get an opportunity to be in contact with experienced oceanographers.\n",
    "\n",
    "We’ve prepared some exercises to help you get familiar with the type of data that will be collected by the research vessel. Research is typically done on **station** while staying stationary for a period of time, or while moving over a **transect**. So let’s give you some more information on the different scientific instruments first.  \n"
   ]
  },
  {
   "cell_type": "markdown",
   "metadata": {},
   "source": [
    "\n",
    "## Measurement Options"
   ]
  },
  {
   "cell_type": "markdown",
   "metadata": {},
   "source": [
    "### Underway Data \n",
    "\n",
    "Underway data collection, also known as underway sampling, refers to the process of collecting oceanographic and environmental data while a research vessel is in motion. This method allows scientists to continuously gather data on various parameters such as sea surface temperature and salinity. The water inlet is located on the hull of the ship at approximately 2 meters under the surface.\n",
    "\n",
    "You can collect underway data during your entire cruise or on specific transects and may assume it doesn’t take any time to start or stop taking measurements."
   ]
  },
  {
   "cell_type": "markdown",
   "metadata": {},
   "source": [
    "### ADCP \n",
    "\n",
    "An Acoustic Doppler Current Profiler (ADCP) is an instrument used to measure the speed and direction of ocean currents at various depths. It operates based on the principle of Doppler shift, where sound waves emitted by the instrument are reflected off moving particles in the water, such as plankton or sediment, and the frequency shift of the returning waves is used to calculate the velocity of the water.\n",
    "\n",
    "You can deploy the ADCP on transects and choose between a shallow profiler capable of providing information to a depth of 150 m every 4 meters (the 300kHz seaSeven), or a long-range profiler capable of providing about 1000m of range every 24 meters (the 38kHz Ocean Observer). You can collect ADCP data during your entire cruise or on specific transects and may assume it doesn’t take any time to start or end ADCP measurements.\n",
    "\n",
    "<iframe width=\"560\" height=\"315\" src=\"https://www.youtube.com/embed/mDyoZagght8?si=VCXfJC7knpQpR2p9&amp;start=37\" title=\"YouTube video player\" frameborder=\"0\" allow=\"accelerometer; autoplay; clipboard-write; encrypted-media; gyroscope; picture-in-picture; web-share\" referrerpolicy=\"strict-origin-when-cross-origin\" allowfullscreen></iframe>"
   ]
  },
  {
   "cell_type": "markdown",
   "metadata": {},
   "source": [
    "### XBT\n",
    "\n",
    "An eXpendable BathyThermograph (XBT) is a probe that is dropped from a ship and measures the temperature as it falls through the water. The probe is designed to fall at a known rate, so that the depth of the temperature profile can be inferred from the time since it enters the water.\n",
    "\n",
    "You may assume it doesn’t take any time to deploy XBTs.\n",
    "\n",
    "<iframe width=\"560\" height=\"315\" src=\"https://www.youtube.com/embed/gAvxRYCnSXY?si=owx8YEPS-0FBIGSf\" title=\"YouTube video player\" frameborder=\"0\" allow=\"accelerometer; autoplay; clipboard-write; encrypted-media; gyroscope; picture-in-picture; web-share\" referrerpolicy=\"strict-origin-when-cross-origin\" allowfullscreen></iframe>"
   ]
  },
  {
   "cell_type": "markdown",
   "metadata": {},
   "source": [
    "\n",
    "### CTD\n",
    "\n",
    "A Conductivity, Temperature, and Depth (CTD) sensor is an instrument used to measure the physical properties of seawater in oceanographic and environmental research. It typically consists of sensors for conductivity (used to derive salinity), temperature, and pressure (used to derive depth).\n",
    "\n",
    "Throughout a CTD deployment, the research vessels needs to stay in the same location. To calculate the time needed for a CTD deployment, take the following information into account:\n",
    "\n",
    "* Add time to lower the vessels speed to zero and set the vessel to the appropriate direction against swell, current, wind, etc = 10 minutes \n",
    "* Add time to deploy the CTD, and to recover = 10 minutes (2*5 min) \n",
    "* Add time for the way down and up, usually at 1 m/s (winch capacity) = twice your maximum depth (in seconds)\n",
    "\n",
    "<iframe width=\"560\" height=\"315\" src=\"https://www.youtube.com/embed/7N2UsPDczTw\" title=\"YouTube video player\" frameborder=\"0\" allow=\"accelerometer; autoplay; clipboard-write; encrypted-media; gyroscope; picture-in-picture\" allowfullscreen></iframe>"
   ]
  },
  {
   "cell_type": "markdown",
   "metadata": {},
   "source": [
    "### Drifters\n",
    "\n",
    "A surface drifter is an oceanographic instrument used to study surface currents and ocean circulation patterns. These devices are designed to drift passively with the surface currents while transmitting data on their position and sea surface temperature.\n",
    "\n",
    "You may assume it doesn’t take any time to deploy drifters.\n",
    "\n",
    "<iframe width=\"560\" height=\"315\" src=\"https://www.youtube.com/embed/3m_CxEE8Bhs?si=XdyMFAVq9RVxQdcE&amp;start=15\" title=\"YouTube video player\" frameborder=\"0\" allow=\"accelerometer; autoplay; clipboard-write; encrypted-media; gyroscope; picture-in-picture; web-share\" referrerpolicy=\"strict-origin-when-cross-origin\" allowfullscreen></iframe>"
   ]
  },
  {
   "cell_type": "markdown",
   "metadata": {},
   "source": [
    "### Argo floats\n",
    "\n",
    "Argo floats are self-contained, battery-powered instruments equipped with sensors to measure temperature and salinity profiles from the surface down to depths of up to 2000 meters or more. These sensors provide high-resolution vertical profiles of ocean properties, allowing researchers to study ocean variability and climate change.\n",
    "\n",
    "The floats periodically descend to a predetermined depth, typically around 1000 meters, and then ascend to the surface, measuring temperature and salinity profiles along the way.\n",
    "\n",
    "You may assume it doesn’t take any time to deploy Argo floats.\n",
    "\n",
    "<iframe width=\"560\" height=\"315\" src=\"https://www.youtube.com/embed/IgcYQML5se4?si=Y7m1kLqUl14QZfcd\" title=\"YouTube video player\" frameborder=\"0\" allow=\"accelerometer; autoplay; clipboard-write; encrypted-media; gyroscope; picture-in-picture; web-share\" referrerpolicy=\"strict-origin-when-cross-origin\" allowfullscreen></iframe>"
   ]
  },
  {
   "cell_type": "markdown",
   "metadata": {},
   "source": [
    "Now that you are familiar with the types of instruments and what type of research you could do with them, it’s time to formulate your own scientific question and methodology. Here are some things to keep in mind: \n",
    "\n",
    "When preparing your cruise proposal, please bear in mind the different lead times between the submission of the proposal and the expedition being carried out. A lead time of roughly one year should be considered for regular proposals, such as this one. The lead time for longer and/or larger expeditions is about one and a half to two years minimum. \n",
    "\n",
    "With respect to time management, please note that diplomatic proposals for research permits in Exclusive Economic Zones (EEZs) of other states must generally be submitted eight months prior to the start of the expedition. Work in difficult areas (for example where there is piracy and the risk of war) must be refrained from. \n",
    "\n",
    "Keep in mind that research vessels have different polar capabilities and it therefore varies in which areas they can operate at different times of the year, depending on ice conditions and minimum allowed air temperature.  \n",
    "\n",
    "All equipment required at sea needs to be transferred to the port of departure before leaving. Schedule enough time to prepare and pack your equipment in the office. This includes scientific instruments, sampling bottles, tools, repair material, safety gear, and any other materials essential to your work.  \n",
    "\n",
    "Make sure that your instruments are cleaned and calibrated before packing and ensure that sensors are functioning properly, batteries are charged, and any necessary software is updated.\n",
    "\n",
    "Finally, fit your equipment in the 20-foot container. The container will be sent to your port of departure ahead of time with a cargo boat, so make sure you are packed in time for this transfer. Remember there are no shops at sea, so think carefully and plan ahead. \n",
    "\n",
    "![Equipment preparation NIOZ](https://www.nioz.nl/application/files/9116/7500/3457/2023-01-16-packing.jpg) \n",
    "![Equipment loading](https://www.nioz.nl/application/files/7416/7810/2265/2023-03-06-container-shifting.jpg) "
   ]
  },
  {
   "cell_type": "markdown",
   "metadata": {},
   "source": [
    "---"
   ]
  },
  {
   "cell_type": "markdown",
   "metadata": {},
   "source": [
    "## Outline "
   ]
  },
  {
   "cell_type": "markdown",
   "metadata": {},
   "source": [
    "### Project Data\n",
    "1. **Title of the proposal**\n",
    "\n",
    "Please choose an appropriate and concise title for the expedition that refers to the work area. \n",
    "\n",
    "2. **Cruise participants**\n",
    "\n",
    "Please provide a list of anticipated cruise participants. Include at least your own names. "
   ]
  },
  {
   "cell_type": "markdown",
   "metadata": {},
   "source": [
    "### Methodology"
   ]
  },
  {
   "cell_type": "markdown",
   "metadata": {},
   "source": [
    "3. **Research question**\n",
    "\n",
    "Please provide a clear and measurable research question. \n",
    "\n",
    "Here are some examples of research you can use as inspiration: \n",
    "\n",
    "[The Irminger Gyre: Circulation, convection, and interannual variability](https://doi.org/10.1016/j.dsr.2011.03.001)\n",
    "\n",
    "[Argo float observations of basin-scale deep convection in the Irminger sea during winter 2011–2012](https://doi.org/10.1016/j.dsr.2015.12.012)\n",
    "\n",
    "\n",
    "<i>Note that your question does not have to be novel. The most important is that it is researchable with the expedition planned here.  <i>"
   ]
  },
  {
   "cell_type": "markdown",
   "metadata": {},
   "source": [
    "4. **Study area**\n",
    "\n",
    "Please explain why you chose this research topic and how the anticipated outcomes of your research contribute to our understanding.  "
   ]
  },
  {
   "cell_type": "markdown",
   "metadata": {},
   "source": [
    "5. **Choice of vessel**\n",
    "\n",
    "Please state the preferred research vessel for this cruise. \n",
    "Choose from https://www.nioz.nl/national-marine-facilities/research-vessels \n",
    "\n",
    "If the NIOZ vessels don’t suffice, pick any of the ships available through MFP and explain why you need this ship. https://nioz.marinefacilitiesplanning.com/programme \n"
   ]
  },
  {
   "cell_type": "markdown",
   "metadata": {},
   "source": [
    "6. **Scientific equipment required**\n",
    "   \n",
    "Please tick both on-board and external equipment needed during the cruise. Note that you can only use one of the ADCPs at any time.   \n",
    "<small><i>To check a box, replace [  ] with [x].</i></small>\n",
    "\n",
    "- [ ] Underway Data\n",
    "      \n",
    "- [ ] ADCP (OceanObserver max depth 1000m with data every 24 meters) \n",
    "\n",
    "- [ ] ADCP (SeaSeven max depth 150m with data every 4 meters) \n",
    "\n",
    "- [ ] XBTs\n",
    "\n",
    "- [ ] CTD \n",
    "\n",
    "- [ ] Argo floats \n",
    "\n",
    "- [ ] Drifters \n",
    "\n",
    "Please explain why you use the instruments checked above."
   ]
  },
  {
   "cell_type": "markdown",
   "metadata": {},
   "source": [
    "### Cruise Data\n",
    "\n",
    "A map and cruise plan can be created through <a href=\"https://nioz.marinefacilitiesplanning.com/cruiselocationplanning#\" style=\"color:lightblue;\">the NIOZ MFP website</a> \n",
    "\n",
    "Documentation on how to use the website can be found <a href=\"https://surfdrive.surf.nl/files/index.php/s/gSNMZqyrf0Pyfo5\" style=\"color:red;\">here</a> and you can watch the video below.\n",
    "<iframe width=\"560\" height=\"315\" src=\"https://www.youtube.com/embed/yIpYX2xCvsM?si=sEXq0Zn5z94JJ3yE\" title=\"YouTube video player\" frameborder=\"0\" allow=\"accelerometer; autoplay; clipboard-write; encrypted-media; gyroscope; picture-in-picture; web-share\" referrerpolicy=\"strict-origin-when-cross-origin\" allowfullscreen></iframe>"
   ]
  },
  {
   "cell_type": "markdown",
   "metadata": {},
   "source": [
    "7. **Cruise period**\n",
    "\n",
    "Please state the preferred year, season, and/or month(s) for the cruise, and provide reasons for restrictions to limited periods. \n"
   ]
  },
  {
   "cell_type": "markdown",
   "metadata": {},
   "source": [
    "8. **Map of working area**\n",
    "\n",
    "Please upload a high-resolution map of the oceans areas you'll research and inlcude all stations and transects.  "
   ]
  },
  {
   "cell_type": "markdown",
   "metadata": {},
   "source": [
    "9. **Cruise departure and arrival port; and transit days**\n",
    "\n",
    "Please name your preferred port of departure and preferred port of arrival. \n",
    "\n",
    "Please enter the number of days required for transit from the preferred port of departure to the working area and the number of days required for transit from the working area to the preferred port of arrival, each rounded to the nearest whole number. Please note that transit times from the port of departure to the first station and from the last station in the working area to the port of arrival are regarded as work days at sea, so they are deducted from your three-week availability. "
   ]
  },
  {
   "cell_type": "markdown",
   "metadata": {},
   "source": [
    "10. **Working areas / EEZs**\n",
    "\n",
    "Please indicate all nations from which research permits would need to be obtained on the basis of planned work in the respective Exclusive Economic Zones (EEZs)"
   ]
  },
  {
   "cell_type": "markdown",
   "metadata": {},
   "source": [
    "11. **Scientific work program**\n",
    "\n",
    "Please provide a scheme with number of necessary work and in-transit days within the working areas and station times. This can be downloaded from <a href=\"https://nioz.marinefacilitiesplanning.com/cruiselocationplanning#\" style=\"color:lightblue;\">the NIOZ MFP website</a> using the Export button on the right.\n",
    "\n",
    "Please indicate at each station what instruments you want to deploy (CTD, Argo float, drifter, XBT) and take the deployment time into account. If you plan to use Argo floats, please give the required depth and cycle duration. In case of the CTD the deployment time depends on the depth of the ocean. \n",
    "\n",
    "Here is some sample code to sample the depth using the bathymetry data that the Virtual Ship will also use. "
   ]
  },
  {
   "cell_type": "code",
   "execution_count": null,
   "metadata": {},
   "outputs": [],
   "source": [
    "# example for plotting and querying bathymetry data\n",
    "# Download data\n",
    "import requests\n",
    "\n",
    "files = {\n",
    "    \"GLO-MFC_001_024_mask_bathy.nc\": \"https://surfdrive.surf.nl/files/index.php/s/AdbtlgP3LJv6tOn/download\",\n",
    "}\n",
    "\n",
    "for filename, url in files.items():\n",
    "    response = requests.get(url, allow_redirects=True)\n",
    "\n",
    "if response.status_code == 200:\n",
    "    with open(filename, \"wb\") as f:\n",
    "        f.write(response.content)\n",
    "\n",
    "else:\n",
    "    print(\"Failed to download\", url)\n",
    "print(\"Download ready\")"
   ]
  },
  {
   "cell_type": "code",
   "execution_count": null,
   "metadata": {},
   "outputs": [],
   "source": [
    "import matplotlib.pyplot as plt\n",
    "import cartopy.crs as ccrs\n",
    "import xarray as xr\n",
    "\n",
    "# Load the bathymetry data using xarray\n",
    "data = xr.open_dataset(\"GLO-MFC_001_024_mask_bathy.nc\")\n",
    "\n",
    "# Create a bathymetry figure and axis with Cartopy projection\n",
    "fig, ax = plt.subplots(figsize=(15, 5), subplot_kw={\"projection\": ccrs.PlateCarree()})\n",
    "data.deptho.plot(ax=ax, cmap=\"viridis\")\n",
    "\n",
    "# Specify extent, add gridlines and coastlines, show plot\n",
    "ax.set_extent(\n",
    "    (130, 160, -70, -40), crs=ccrs.PlateCarree()\n",
    ")  # set extent as (x0, x1, y0, y1)\n",
    "ax.gridlines(draw_labels=True)\n",
    "ax.coastlines()\n",
    "plt.show()\n",
    "\n",
    "# Query and print the bathymetry data at the specified location\n",
    "station_depth = data.deptho.sel(latitude=-50, longitude=150, method=\"nearest\")\n",
    "print(f\"The depth at this station is: {station_depth.values} meters\")"
   ]
  },
  {
   "cell_type": "markdown",
   "metadata": {},
   "source": [
    "12. **Feasibility**\n",
    "\n",
    "Please explain how the methodology detailed in this proposal aims to answer your research question.  "
   ]
  }
 ],
 "metadata": {
  "kernelspec": {
   "display_name": "Python 3 (ipykernel)",
   "language": "python",
   "name": "python3"
  },
  "language_info": {
   "codemirror_mode": {
    "name": "ipython",
    "version": 3
   },
   "file_extension": ".py",
   "mimetype": "text/x-python",
   "name": "python",
   "nbconvert_exporter": "python",
   "pygments_lexer": "ipython3",
   "version": "3.10.15"
  }
 },
 "nbformat": 4,
 "nbformat_minor": 4
}
