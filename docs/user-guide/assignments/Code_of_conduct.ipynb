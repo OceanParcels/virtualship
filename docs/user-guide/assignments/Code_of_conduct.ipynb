{
 "cells": [
  {
   "cell_type": "markdown",
   "metadata": {},
   "source": [
    "## Code of conduct\n",
    "_As used during the Dynamical Oceanography 2024/25 course at Utrecht University_"
   ]
  },
  {
   "cell_type": "markdown",
   "metadata": {},
   "source": [
    "_Please read this code of conduct, fill out the [parts between brackets] after consultation with your group, remove these italic sections, and then all individually upload a copy._ \n",
    "\n",
    "_Note that the Code of Conduct applies to the actual collaboration within your group in the Virtual Ship Assignment; so is not about how you would work on the ship._"
   ]
  },
  {
   "cell_type": "markdown",
   "metadata": {},
   "source": [
    "This code of conduct has been decided by [NAMES] for their group project during the Virtual Ship Classroom and is enacted from [DD-MM-YYYY]. The procedure is based on [this exercise by Aurelia Moser](http://aureliamoser.com/aaas-guides/conduct/index.html)\n",
    "\n",
    "Everyone taking part in the course and group discussions (mentors, helpers, coordinators, and learners) is required to conform to the following Code of Conduct. Coordinators will oversee adherence to this code throughout the course.\n",
    "\n",
    "Characteristics we value: [FILL IN]\n",
    "\n",
    "Behaviors we encourage: [FILL IN]\n",
    "\n",
    "Behaviors we discourage: [FILL IN]\n",
    "\n",
    "The way we redistribute the grade: [FILL IN]\n",
    "\n",
    "Choose for example “Everyone in the team gets the same grade”, “Everyone can propose a bonus point to one other person, which is then subtracted from other team member’s grades”, “We decide as a group who gets up to x bonus/penalty points”, or any other way to redistribute the grade, as long as the average of the group is not affected. \n",
    "\n",
    "We make each others feel safe and supported by: [FILL IN]\n",
    "\n",
    "How to report an issue, should someone violate the code?\n",
    "1.\tContact the course instructor by private message, or in person. All communication will be treated as confidential.\n",
    "2.\tIf for any reason you don’t want to do 1, you can contact the university Academic Integrity Counsellor."
   ]
  },
  {
   "cell_type": "markdown",
   "metadata": {},
   "source": [
    "## Community Participation Guidelines"
   ]
  },
  {
   "cell_type": "markdown",
   "metadata": {},
   "source": [
    "Apart from the code of conduct, all participants in this course must follow these general guidelines.\n",
    "Participation \n",
    "\n",
    "When participating in Dynamical Oceanography, respect the Utrecht University guideline for academic and scientific integrity and code of conduct. These guidelines cover our behaviour as participants, mentors, experts, staff, volunteers, and anyone else involved in making this course possible.\n",
    "\n",
    "How to treat each other\n",
    "\n",
    "To create a collaborative and inviting learning environment, we also emphasise certain values in how we treat each other:\n",
    "*\tBe respectful and value each other’s ideas, styles and viewpoints.\n",
    "*\tBe direct but professional; we cannot withhold hard truths.\n",
    "*\tBe inclusive and help new perspectives be heard.\n",
    "*\tAppreciate and accommodate our many cultural practices, attitudes and beliefs.\n",
    "*\tBe open to learning from others.\n",
    "*\tLead by example and match your actions with your words.\n",
    "\n",
    "The following will not be tolerated during the activities related to this course:\n",
    "*\tviolence and threats of violence.\n",
    "*\tpersonal attacks; derogatory language.\n",
    "*\tunwelcome sexual attention or physical contact.\n",
    "*\tdisruptive behavior.\n",
    "*\tinfluencing unacceptable behavior.\n",
    "\n",
    "### Inclusion and Diversity\n",
    "\n",
    "We welcome contributions from everyone as long as they interact constructively with our community, including, but not limited to people of varied age, culture, ethnicity, gender, gender-identity, language, race, sexual orientation, geographical location and religious views.\n",
    "\n",
    "Raising Issues\n",
    "\n",
    "If you believe you‘re experiencing practices which don‘t meet the above policies, or if you feel you are being harassed in any way, please immediately contact the course coordinator, or the university Academic Integrity Counsellor.\n",
    "\n",
    "The course coordinator reserves the right to refuse admission to anyone violating these policies, and/or take further action including reporting to the responsible figure for academic integrity at the department.\n"
   ]
  },
  {
   "cell_type": "markdown",
   "metadata": {},
   "source": [
    "[Thumbnail image](_images/freepik_code_of_conduct.jpg)"
   ]
  }
 ],
 "metadata": {
  "language_info": {
   "name": "python"
  }
 },
 "nbformat": 4,
 "nbformat_minor": 2
}
