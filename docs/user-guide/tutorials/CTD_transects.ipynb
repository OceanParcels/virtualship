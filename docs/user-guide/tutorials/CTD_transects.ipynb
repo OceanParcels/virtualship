{
 "cells": [
  {
   "cell_type": "markdown",
   "id": "cca80169",
   "metadata": {},
   "source": [
    "# CTD Transect Plotting\n",
    "\n",
    "This notebook demonstrates a simple plotting exercise for CTD data across a transect, using the output of a VirtualShip expedition. There are example plots embedded at the end, but these will ultimately be replaced by your own versions as you work through the notebook.\n",
    "\n",
    "We can plot physical (temperature, salinity) or biogeochemical data (oxygen, chlorophyll, primary production, phyto/zoo-plankton, nutrients, pH) as measured by the VirtualShip `CTD` and `CTD_BGC` instruments, respectively.\n",
    "\n",
    "The plot(s) we will produce are simple plots which follow the trajectory of the expedition as a function of distance from the first waypoint, and are intended to be a starting point for your analysis. \n",
    "\n",
    "<div class=\"alert alert-block alert-info\"> \n",
    "<b>Note:</b> This notebook assumes that each waypoint in the expedition is further from the start than the last waypoint. The code will still work if not, but the resultant plots might not be very intuitive.\n",
    "</div>"
   ]
  },
  {
   "cell_type": "markdown",
   "id": "aad20bd7",
   "metadata": {},
   "source": [
    "## Set up\n",
    "\n",
    "#### Imports\n",
    "\n",
    "The first step is to import the Python packages required for post-processing the data and plotting. "
   ]
  },
  {
   "cell_type": "code",
   "execution_count": 44,
   "id": "c7f9f2ee",
   "metadata": {},
   "outputs": [],
   "source": [
    "import cmocean.cm as cmo\n",
    "import matplotlib.colors as mcolors\n",
    "import matplotlib.patches as mpatches\n",
    "import numpy as np\n",
    "import xarray as xr\n",
    "from matplotlib import pyplot as plt"
   ]
  },
  {
   "cell_type": "markdown",
   "id": "4f387780",
   "metadata": {},
   "source": [
    "\n",
    "#### Data directory\n",
    "\n",
    "Next, you should set `data_dir` to be the path to your expedition results in the code block below. You should replace `\"/path/to/EXPEDITION/results/\"` with the path for your machine.\n",
    "\n",
    "<div class=\"alert alert-block alert-success\"> \n",
    "<b>Tip:</b> You can get the path to your expedition results by navigating to to the folder in Terminal (using `cd`) and then using the `pwd` command. This will print your working directory which you can copy to the `data_dir` variable in this notebook. Don't forget to keep it as a string (in \"quotation\" marks)!\n",
    "</div>"
   ]
  },
  {
   "cell_type": "code",
   "execution_count": null,
   "id": "cf497101",
   "metadata": {},
   "outputs": [],
   "source": [
    "data_dir = \"/path/to/EXPEDITION/results/\"  # set this to be where your expedition output data is located on your (virtual) machine"
   ]
  },
  {
   "cell_type": "markdown",
   "id": "a499ebe2",
   "metadata": {},
   "source": [
    "#### Variable choice\n",
    "\n",
    "You should now consider which variable from your CTD casts you would like to plot. Which ones are available to you will depend on whether you have used the `CTD` (physical variables) or `CTD_BGC` (biogeochemical) instrument, or both. Below is a list of all valid variable choices for both instruments...\n",
    "\n",
    "`CTD` (physical):\n",
    "- \"temperature\"\n",
    "- \"salinity\"\n",
    "\n",
    "`CTD_BGC` (biogeochemical):\n",
    "- \"oxygen\"\n",
    "- \"nitrate\"\n",
    "- \"phosphate\"\n",
    "- \"ph\"\n",
    "- \"zooplankton\"\n",
    "- \"phytoplankton\"\n",
    "- \"primary_production\"\n",
    "- \"chlorophyll\"\n",
    "\n",
    "Copy one of the above to `plot_variable` below:"
   ]
  },
  {
   "cell_type": "code",
   "execution_count": 46,
   "id": "8de8b4ae",
   "metadata": {},
   "outputs": [],
   "source": [
    "plot_variable = \"temperature\"  # change this to your chosen variable"
   ]
  },
  {
   "cell_type": "markdown",
   "id": "a05fad14",
   "metadata": {},
   "source": [
    "\n",
    "We also define the `VARIABLES` dictionary here, which we use to store some parameters for the plots related to each variable choice (e.g. labels, what units each is in, and which colour map we should use for the plots).\n",
    "\n",
    "<div class=\"alert alert-block alert-success\"> \n",
    "<b>Tip:</b> You don't need to change anything here, but should you wish to change the colour scheme (`cmap`) for any CTD variable you can do so. At the moment it's set to use relevant cmaps from the cmocean Python package, which has developed specialist colour schemes for oceanographic data applications.\n",
    "</div>"
   ]
  },
  {
   "cell_type": "code",
   "execution_count": 47,
   "id": "b32d2730",
   "metadata": {},
   "outputs": [],
   "source": [
    "VARIABLES = {\n",
    "    \"temperature\": {\n",
    "        \"cmap\": cmo.thermal,\n",
    "        \"label\": \"Temperature (°C)\",\n",
    "        \"ds_name\": \"temperature\",\n",
    "    },\n",
    "    \"salinity\": {\n",
    "        \"cmap\": cmo.haline,\n",
    "        \"label\": \"Salinity (psu)\",\n",
    "        \"ds_name\": \"salinity\",\n",
    "    },\n",
    "    \"oxygen\": {\n",
    "        \"cmap\": cmo.oxy,\n",
    "        \"label\": \"Dissolved oxygen (mmol m-3)\",\n",
    "        \"ds_name\": \"o2\",\n",
    "    },\n",
    "    \"nitrate\": {\n",
    "        \"cmap\": cmo.matter,\n",
    "        \"label\": \"Nitrate (mmol m-3)\",\n",
    "        \"ds_name\": \"no3\",\n",
    "    },\n",
    "    \"phosphate\": {\n",
    "        \"cmap\": cmo.matter,\n",
    "        \"label\": \"Phosphate (mmol m-3)\",\n",
    "        \"ds_name\": \"po4\",\n",
    "    },\n",
    "    \"ph\": {\n",
    "        \"cmap\": cmo.balance,\n",
    "        \"label\": \"pH\",\n",
    "        \"ds_name\": \"ph\",\n",
    "    },\n",
    "    \"zooplankton\": {\n",
    "        \"cmap\": cmo.algae,\n",
    "        \"label\": \"Total zooplankton (mmol m-3)\",\n",
    "        \"ds_name\": \"zooc\",\n",
    "    },\n",
    "    \"phytoplankton\": {\n",
    "        \"cmap\": cmo.algae,\n",
    "        \"label\": \"Total phytoplankton (mmol m-3)\",\n",
    "        \"ds_name\": \"phyc\",\n",
    "    },\n",
    "    \"primary_production\": {\n",
    "        \"cmap\": cmo.matter,\n",
    "        \"label\": \"Total primary production of phytoplankton (mg m-3 day-1)\",\n",
    "        \"ds_name\": \"nppv\",\n",
    "    },\n",
    "    \"chlorophyll\": {\n",
    "        \"cmap\": cmo.algae,\n",
    "        \"label\": \"Chlorophyll (mg m-3)\",\n",
    "        \"ds_name\": \"chl\",\n",
    "    },\n",
    "}"
   ]
  },
  {
   "cell_type": "markdown",
   "id": "6f9a5afb",
   "metadata": {},
   "source": [
    "## Load data\n",
    "\n",
    "We are now ready to read in the data. You can carry on executing the next cells without making changes to the code..."
   ]
  },
  {
   "cell_type": "code",
   "execution_count": 48,
   "id": "13f4664b",
   "metadata": {},
   "outputs": [],
   "source": [
    "# load CTD data\n",
    "filename = (\n",
    "    \"ctd.zarr\" if plot_variable in [\"temperature\", \"salinity\"] else \"ctd_bgc.zarr\"\n",
    ")\n",
    "ctd_ds = xr.open_dataset(f\"{data_dir}/{filename}\")\n",
    "if ctd_ds[\"trajectory\"].size <= 1:\n",
    "    raise ValueError(\"Number of waypoints must be > 1\")"
   ]
  },
  {
   "cell_type": "markdown",
   "id": "a8201b14",
   "metadata": {},
   "source": [
    "## Data post-processing\n",
    "\n",
    "Before we can continue, we need to do some post-processing to get it ready for plotting. Below are various helper functions which perform tasks such as calculating the distance of each waypoint from the start, capturing only the downcasts of the CTD casts, as well as some other utility methods. "
   ]
  },
  {
   "cell_type": "code",
   "execution_count": 49,
   "id": "785b2b35",
   "metadata": {},
   "outputs": [],
   "source": [
    "# utility functions\n",
    "\n",
    "\n",
    "def haversine(lon1, lat1, lon2, lat2):\n",
    "    \"\"\"Great-circle distance (meters) between two points.\"\"\"\n",
    "    lon1, lat1, lon2, lat2 = map(np.radians, [lon1, lat1, lon2, lat2])\n",
    "    dlon, dlat = lon2 - lon1, lat2 - lat1\n",
    "    a = np.sin(dlat / 2) ** 2 + np.cos(lat1) * np.cos(lat2) * np.sin(dlon / 2) ** 2\n",
    "    c = 2 * np.arctan2(np.sqrt(a), np.sqrt(1 - a))\n",
    "    return 6371000 * c\n",
    "\n",
    "\n",
    "def distance_from_start(ds):\n",
    "    \"\"\"Add 'distance' variable: meters from first waypoint.\"\"\"\n",
    "    lon0, lat0 = (\n",
    "        ds.isel(trajectory=0)[\"lon\"].values[0],\n",
    "        ds.isel(trajectory=0)[\"lat\"].values[0],\n",
    "    )\n",
    "    d = np.zeros_like(ds[\"lon\"].values, dtype=float)\n",
    "    for ob, (lon, lat) in enumerate(zip(ds[\"lon\"], ds[\"lat\"], strict=False)):\n",
    "        d[ob] = haversine(lon, lat, lon0, lat0)\n",
    "    ds[\"distance\"] = xr.DataArray(\n",
    "        d,\n",
    "        dims=ds[\"lon\"].dims,\n",
    "        attrs={\"long_name\": \"distance from first waypoint\", \"units\": \"m\"},\n",
    "    )\n",
    "    return ds\n",
    "\n",
    "\n",
    "def descent_only(ds, variable):\n",
    "    \"\"\"Extract descending CTD data (downcast), pad with NaNs for alignment.\"\"\"\n",
    "    min_z_idx = ds[\"z\"].argmin(\"obs\")\n",
    "    da_clean = []\n",
    "    for i, traj in enumerate(ds[\"trajectory\"].values):\n",
    "        idx = min_z_idx.sel(trajectory=traj).item()\n",
    "        descent_vals = ds[variable][\n",
    "            i, : idx + 1\n",
    "        ]  # take values from surface to min_z_idx (inclusive)\n",
    "        da_clean.append(descent_vals)\n",
    "    max_len = max(len(arr[~np.isnan(arr)]) for arr in da_clean)\n",
    "    da_padded = np.full((ds[\"trajectory\"].size, max_len), np.nan)\n",
    "    for i, arr in enumerate(da_clean):\n",
    "        da_dropna = arr[~np.isnan(arr)]\n",
    "        da_padded[i, : len(da_dropna)] = da_dropna\n",
    "    return xr.DataArray(\n",
    "        da_padded,\n",
    "        dims=[\"trajectory\", \"obs\"],\n",
    "        coords={\"trajectory\": ds[\"trajectory\"], \"obs\": np.arange(max_len)},\n",
    "    )\n",
    "\n",
    "\n",
    "def build_masked_array(data_up, profile_indices, n_profiles):\n",
    "    arr = np.full((n_profiles, data_up.shape[1]), np.nan)\n",
    "    for i, idx in enumerate(profile_indices):\n",
    "        if idx is not None:\n",
    "            arr[i, :] = data_up.values[idx, :]\n",
    "    return arr\n",
    "\n",
    "\n",
    "def get_profile_indices(distance_1d):\n",
    "    \"\"\"\n",
    "    Returns regular distance bins and profile indices for CTD transect plotting.\n",
    "\n",
    "    Bin size is set to one order of magnitude lower than max distance.\n",
    "    \"\"\"\n",
    "    dist_min, dist_max = float(distance_1d.min()), float(distance_1d.max())\n",
    "    if dist_max > 1e6:\n",
    "        dist_step = 1e5\n",
    "    elif dist_max > 1e5:\n",
    "        dist_step = 1e4\n",
    "    elif dist_max > 1e4:\n",
    "        dist_step = 1e3\n",
    "    else:\n",
    "        dist_step = 1e2  # fallback for very short transects\n",
    "\n",
    "    distance_regular = np.arange(dist_min, dist_max + dist_step, dist_step)\n",
    "    threshold = dist_step / 2\n",
    "    profile_indices = [\n",
    "        np.argmin(np.abs(distance_1d.values - d))\n",
    "        if np.min(np.abs(distance_1d.values - d)) < threshold\n",
    "        else None\n",
    "        for d in distance_regular\n",
    "    ]\n",
    "    return profile_indices, distance_regular"
   ]
  },
  {
   "cell_type": "markdown",
   "id": "2bdf98e6",
   "metadata": {},
   "source": [
    "\n",
    "Now we will execute the utility functions, plus define some extra useful arrays to be used for the plotting..."
   ]
  },
  {
   "cell_type": "code",
   "execution_count": 50,
   "id": "f59824a1",
   "metadata": {},
   "outputs": [],
   "source": [
    "# add distance from start\n",
    "ctd_distance = distance_from_start(ctd_ds)\n",
    "\n",
    "# exract descent-only data\n",
    "z_up = descent_only(ctd_distance, \"z\")\n",
    "d_up = descent_only(ctd_distance, \"distance\")\n",
    "var_up = descent_only(ctd_distance, VARIABLES[plot_variable][\"ds_name\"])\n",
    "\n",
    "# 1d array of depth dimension (from deepest trajectory)\n",
    "traj_idx, obs_idx = np.where(z_up == np.nanmin(z_up))\n",
    "z1d = z_up.values[traj_idx[0], :]\n",
    "\n",
    "# distance as 1d array\n",
    "distance_1d = d_up.isel(obs=0)"
   ]
  },
  {
   "cell_type": "markdown",
   "id": "17745cf1",
   "metadata": {},
   "source": [
    "## Plotting\n",
    "\n",
    "<div class=\"alert alert-block alert-info\"> \n",
    "<b>Note:</b> The plots produced next are a starting point for your analysis. You are encouraged to make adjustments, for example axis limits and scaling if the defaults not best suited to your specific data. Use your preferred AI coding assistant for help!\n",
    "</div>\n",
    "\n",
    "We are now ready to plot our transect data. We will use distance from the first waypoint/CTD cast for the x-axis, and water column depth for the y-axis. The data for the chosen variable will then be plotted according to the colour map. The CTD casts are likely to be different depths because some parts of the ocean are of course shallower than others.\n",
    "\n",
    "There are a few extra steps below which arrange the CTD casts into regular distance bins, so as to clearly demonstrate where along the transect we made CTD casts and indeed where there are gaps.\n",
    "\n",
    "<div class=\"alert alert-block alert-success\"> \n",
    "<b>Tip:</b> Press the \"Expand Image\" button in the top right of the resultant plot to explore the plot in greater detail in a separate tab. Or the \"Save As\" button to save a copy of the image.\n",
    "</div>"
   ]
  },
  {
   "cell_type": "code",
   "execution_count": null,
   "id": "ce83c3b9",
   "metadata": {},
   "outputs": [
    {
     "data": {
      "image/png": "[encoded data removed]",
      "text/plain": [
       "<Figure size 900x540 with 2 Axes>"
      ]
     },
     "metadata": {},
     "output_type": "display_data"
    }
   ],
   "source": [
    "# regularised transect\n",
    "profile_indices, distance_regular = get_profile_indices(distance_1d)\n",
    "var_masked = build_masked_array(var_up, profile_indices, len(distance_regular))\n",
    "\n",
    "xticks_reg = np.linspace(\n",
    "    float(distance_regular.min()),\n",
    "    float(distance_regular.max()),\n",
    "    len(distance_regular),\n",
    ")\n",
    "\n",
    "# plot regularised transect\n",
    "fig, ax = plt.subplots(figsize=(10, 6), dpi=90)\n",
    "\n",
    "ax.grid(True, which=\"both\", color=\"lightgrey\", linestyle=\"-\", linewidth=0.7, alpha=0.5)\n",
    "\n",
    "mesh = ax.pcolormesh(\n",
    "    distance_regular / 1000,  # distance in km\n",
    "    z1d,\n",
    "    var_masked.T,\n",
    "    cmap=VARIABLES[plot_variable][\"cmap\"],\n",
    ")\n",
    "\n",
    "ax.set_ylabel(\"Depth (m)\")\n",
    "ax.set_xlabel(\"Distance from start (km)\")\n",
    "\n",
    "plt.colorbar(mesh, ax=ax, label=VARIABLES[plot_variable][\"label\"])\n",
    "plt.tight_layout()"
   ]
  },
  {
   "cell_type": "markdown",
   "id": "68c5c8c2",
   "metadata": {},
   "source": [
    "In the plot above, we can see that there are gaps in the transects where no CTD casts have been made. After all, it's impossible to take measurements at every point across the transect! There will always be gaps making 10s of deployments across transects 1000s of kms long 🙃 This makes expedition/sampling site planning all the more important...\n",
    "\n",
    "We can also also plot a 'filled' version without the distance bins, to give an alternative view of the evolution across the transect which is not dominated by gaps and white space. This time we will also add a 'sea bed' to the plot.\n",
    "\n",
    "<div class=\"alert alert-block alert-info\"> \n",
    "<b>Note:</b> It is important to remember that the gaps do actually exist in reality and this is a caveat which must be considered when interpreting the transect derived from CTD casts. Indeed, if you look at the x-axis of the plot below you will see that the deployments are not necessarily regularly spaced and some gaps are larger than others.\n",
    "</div>"
   ]
  },
  {
   "cell_type": "code",
   "execution_count": null,
   "id": "fcf8a137",
   "metadata": {},
   "outputs": [
    {
     "data": {
      "image/png": "[encoded data removed]",
      "text/plain": [
       "<Figure size 960x576 with 2 Axes>"
      ]
     },
     "metadata": {},
     "output_type": "display_data"
    }
   ],
   "source": [
    "# plot 'filled' transect (with sea bed visualised as well)\n",
    "fig, ax = plt.subplots(figsize=(10, 6), dpi=96)\n",
    "\n",
    "mesh = ax.pcolormesh(\n",
    "    distance_1d / 1000,  # distance in km\n",
    "    z1d,\n",
    "    var_up.T,\n",
    "    cmap=VARIABLES[plot_variable][\"cmap\"],\n",
    ")\n",
    "\n",
    "seabed = xr.where(np.isnan(var_up), 1, np.nan)  # sea bed\n",
    "ax.pcolormesh(\n",
    "    distance_1d / 1000,  # distance in km\n",
    "    z1d,\n",
    "    seabed.T,\n",
    "    cmap=mcolors.ListedColormap([mcolors.to_rgba(\"tan\"), mcolors.to_rgba(\"white\")]),\n",
    ")\n",
    "\n",
    "tan_patch = mpatches.Patch(color=mcolors.to_rgba(\"tan\"), label=\"Land / sea bed\")\n",
    "ax.legend(handles=[tan_patch], loc=\"lower right\")\n",
    "\n",
    "ax.set_xticks(distance_1d / 1000)\n",
    "\n",
    "ax.set_ylabel(\"Depth (m)\")\n",
    "ax.set_xlabel(\"Distance from start (km)\")\n",
    "\n",
    "plt.colorbar(mesh, ax=ax, label=VARIABLES[plot_variable][\"label\"])\n",
    "plt.tight_layout()"
   ]
  }
 ],
 "metadata": {
  "kernelspec": {
   "display_name": "ship",
   "language": "python",
   "name": "python3"
  },
  "language_info": {
   "codemirror_mode": {
    "name": "ipython",
    "version": 3
   },
   "file_extension": ".py",
   "mimetype": "text/x-python",
   "name": "python",
   "nbconvert_exporter": "python",
   "pygments_lexer": "ipython3",
   "version": "3.12.9"
  }
 },
 "nbformat": 4,
 "nbformat_minor": 5
}
