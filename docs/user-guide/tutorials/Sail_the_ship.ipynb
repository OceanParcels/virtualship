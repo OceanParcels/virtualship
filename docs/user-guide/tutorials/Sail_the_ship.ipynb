{
 "cells": [
  {
   "cell_type": "markdown",
   "metadata": {},
   "source": [
    "### Start your expedition!\n",
    "\n",
    "https://www.youtube.com/watch?v=G82kIgc1imk\n",
    "\n",
    "<iframe width=\"560\" height=\"315\" src=\"https://www.youtube.com/embed/G82kIgc1imk?si=HjOWzWOsla4RT7xg\" title=\"YouTube video player\" frameborder=\"0\" allow=\"accelerometer; autoplay; clipboard-write; encrypted-media; gyroscope; picture-in-picture; web-share\" referrerpolicy=\"strict-origin-when-cross-origin\" allowfullscreen></iframe>"
   ]
  },
  {
   "cell_type": "markdown",
   "metadata": {},
   "source": [
    "On your (virtual) machine change directory into the folder where your expedition will be run. Initialize the virtualship by copying the commands directly into a terminal.\n",
    "\n",
    ">Usage: virtualship init [OPTIONS] PATH\n",
    ">\n",
    ">  Initialize a directory for a new expedition, with an example schedule and\n",
    ">  ship config files.\n",
    "\n",
    "```virtualship init EXPEDITION_NAME```"
   ]
  },
  {
   "cell_type": "markdown",
   "metadata": {},
   "source": [
    "This will create a folder `EXPEDITION_NAME` with two files: `schedule.yaml` and\t`ship_config.yaml`.\n",
    "\n",
    "You can populate the `schedule.yaml` file manually with each sampling CTD station and XBT/DRIFTER/ARGO_FLOAT deployment position. Or use the exported cruise coordinates from MFP. In that case, add an extra column to the .xlsx file called `Instrument` and on each line write which instruments you want to use or deploy there. Multiple instrument are allowed, e.g. `DRIFTER, CTD` or `DRIFTER, ARGO_FLOAT`. If you want to use your MFP export, make sure your directory is clean and run:\n",
    "\n",
    "```virtualship init EXPEDITION_NAME --from-mfp CoordinatesExport.xlsx```"
   ]
  },
  {
   "cell_type": "markdown",
   "metadata": {},
   "source": [
    "\n",
    "Mind that the route between points will be sailed as the shortest great-cirlce distance.  \n",
    "\n",
    "Instrument configurations can be provided in `ship_config`. \n",
    "\n",
    "Under `adcp_config` provide the configuration of your ADCP, so either `max_depth_meter: -1000.0` if you want to use the OceanObserver or `max_depth_meter: -150.0` if you want to use the SeaSeven. \n",
    "\n",
    "If you don't need the ADCP to measure, remove the `adcp_config` and underlying lines from the configuration file. \n",
    "\n",
    "If you do not want to collect underway data, remove `ship_underwater_st_config` from the configuration file.\n",
    "\n",
    "Change the xbt, drifter and argo_float configurations if you want.\n",
    "\n",
    "For the CTD, provide the maximum depth you will want to measure at. All other CTD casts will be done to approximately 20 meter of the ocean floor. \n",
    "\n",
    "When you have finished your schedule and config, run the fetch command to download input data for the virtual ship from the Copernicus marine data store. \n",
    "You will need to register via: https://data.marine.copernicus.eu/register \n",
    "You can provide your username and password as command line arguments. If you don't you will be prompted for your credentials.\n",
    "\n",
    "> Usage: virtualship fetch [OPTIONS] PATH\n",
    ">\n",
    ">  Download input data for an expedition.\n",
    "\n",
    "```virtualship fetch EXPEDITION_NAME --username <USERNAME> --password <PASSWORD>```\n",
    "\n",
    "```virtualship fetch EXPEDITION_NAME```"
   ]
  },
  {
   "cell_type": "markdown",
   "metadata": {},
   "source": [
    "Waiting for your data download is a great time to practice your level of patience. A skill much needed in oceanographic fieldwork ;-)\n",
    "\n",
    "After your input data has been downloaded you can do your expedition:\n",
    "\n",
    "> Usage: virtualship run [OPTIONS] PATH\n",
    ">\n",
    "> Run the expedition.\n",
    "\n",
    "```virtualship run EXPEDITION_NAME```"
   ]
  },
  {
   "cell_type": "markdown",
   "metadata": {},
   "source": [
    "It might take up to an hour to gather the data depending on your choices. Meanwhile read up on some of the onboard safety procedures and browse through blogs and cruise reports if you want. "
   ]
  },
  {
   "cell_type": "markdown",
   "metadata": {},
   "source": [
    "### Welcome aboard\n",
    "\n",
    "Welcome aboard, oceanography students, to our scientific research vessel! We're thrilled to have you join us for this exciting 3-week journey into the depths of the ocean. As we embark on this voyage of exploration and discovery, there are a few things I'd like to share with you to ensure a smooth and enriching experience:\n",
    "\n",
    "**Introduction to the Vessel:** Take some time to familiarize yourselves with the layout of the ship. Get to know key areas such as the laboratories, living quarters, dining area, and deck spaces. E.g. at https://viewer.foleon.com/preview/vo2PZClgA/rv-wim-wolff\n",
    "\n",
    "**Daily Routine:** Life on a research vessel follows a structured daily routine. We'll have designated times for meals, research activities, data analysis, and downtime. It's important to maintain this routine to ensure that our work is conducted efficiently and that everyone onboard has the opportunity to rest and recharge.\n",
    "\n",
    "**Safety Orientation:** Safety is our top priority. As we set sail, we'll conduct a comprehensive safety orientation. This will cover important topics such as emergency procedures, the location of safety equipment, and proper use of personal protective gear. Please pay close attention during this orientation to ensure your safety and the safety of others on board.\n",
    "\n",
    "**Respect for the Environment:** As we explore the ocean, it's essential to maintain a deep respect for the marine environment. We'll adhere to strict environmental protocols to minimize our impact on marine ecosystems and wildlife. Remember to dispose of waste properly and avoid disturbing marine life whenever possible.\n",
    "\n",
    "**Teamwork and Collaboration:** Oceanographic research is a collaborative effort that requires teamwork and cooperation. You'll be working closely with your fellow students. Embrace the opportunity to learn from each other and support one another throughout the journey.\n",
    "\n",
    "![ship layout](https://www.nioz.nl/application/files/1116/0873/1068/CROP_bestand_3_SG_2.1_Bijlage_-_Algemeen_Plan.jpg)"
   ]
  },
  {
   "cell_type": "markdown",
   "metadata": {},
   "source": [
    "\n",
    "\n",
    "### Emergency procedures\n",
    "\n",
    "Before going on any research expedition you need follow a one day Safety at Sea course and get a medical check-up.\n",
    "\n",
    "Of course this is not needed for your virtual fieldwork, but I like to draw for your attention to the following on-board emergency procedures.\n",
    "\n",
    "**Safety Drills:** We conduct regular safety drills to ensure that everyone on board is well-prepared in case of an emergency. Specifically, fire and boat drills are held once a week. These drills are not just routine; they are essential survival training and should be taken seriously. To minimize disruption to the research program, science party members are usually notified in advance of the scheduled drills. In the event that you must continue working during a drill, prior arrangements can be made through the Chief Scientist.\n",
    "\n",
    "**Emergency Signal:** In the event of an emergency signal, your immediate action is crucial. Don life jackets, put on long-sleeved garments, and wear a hat or head covering if available. Then, proceed to the designated station indicated on the station card located next to your bunk.\n",
    "\n",
    "**On-Call Readiness:** Please keep in mind that while on board the ship, you may be called upon without warning to assist during your off-watch periods. Emergencies can happen at any time, and your readiness to respond promptly and efficiently is essential to the safety of all aboard.\n",
    "\n",
    "**Boat Drill (Abandon Ship):** The signal for abandon ship is seven or more short blasts followed by one long blast of the ship’s whistle and general alarm. When this signal is heard, report to your designated life raft station. There the Mate in charge will explain the procedures for launching and embarking into the life rafts. The rafts will not be launched during a drill.\n",
    "\n",
    "**Fire and Emergency Drills:** The signal is one long blast on the ship’s whistle and general alarm bell, lasting for ten seconds or more. During this drill, members of the science party muster in the designated area. Attendance will be taken and reported to the bridge.\n",
    "\n",
    "**Man Overboard:** If someone falls overboard, throw a life-ring into the water towards the person. Keep your eye on the person at all times and point towards the person. Shout “MAN OVERBOARD, STARBOARD (or PORT),” and call the bridge on the sound powered phone or squawk box to inform them without losing sight of the person if possible. If you hear someone hail \"Man Overboard,\" pass the word to the bridge."
   ]
  },
  {
   "cell_type": "markdown",
   "metadata": {},
   "source": [
    "### Reporting\n",
    "Reporting your journey is an essential aspect of our oceanographic research expedition. It allows us to share our experiences, communicate our findings, and contribute to the broader scientific community. After each scientific expedition a cruise reports needs to be written. \n",
    "You can find many cruise reports online, e.g. https://www.bodc.ac.uk/resources/inventories/cruise_inventory/reports/pe358.pdf and blogs from many different cruises, e.g. https://www.nioz.nl/en/blog/topic/1027. \n",
    "\n",
    "Reporting our journey allows us to validate the data collected during our research activities. It provides context for our findings and helps ensure that our results are accurately interpreted and understood. Detailed reports enable us to cross-reference our observations with environmental conditions, sampling locations, and other relevant factors, enhancing the reliability and credibility of our data. Our reports also serve as valuable educational resources for students, educators, and the general public. They provide insights into the process of scientific inquiry, the challenges of conducting research at sea, and the significance of oceanographic discoveries. \n",
    "\n",
    "I look forward to seeing the impact of your collective efforts during the presentations!\n",
    "\n",
    "Please don't worry if your results are insufficient to answer your research question. Share your failure and things you would do different a next time instead!\n",
    "\n",
    "E.g. Normalizing failure: when things go wrong in participatory marine social science fieldwork. https://publications.csiro.au/publications/publication/PIcsiro:EP2022-3465\n",
    "\n",
    "E.g. Emotions and failure in academic life: Normalising the experience and building resilience. https://www.cambridge.org/core/journals/journal-of-management-and-organization/article/emotions-and-failure-in-academic-life-normalising-the-experience-and-building-resilience/91FD71A50A32404D8EDFFB7886FF3521"
   ]
  },
  {
   "cell_type": "markdown",
   "metadata": {},
   "source": [
    "![Our ocean provides](https://seewhatgrows.org/wp-content/uploads/2019/06/our-ocean.jpg)\n",
    "![10 ways to help our ocean](https://oceanservice.noaa.gov/ocean/help-ocean.jpg)"
   ]
  }
 ],
 "metadata": {
  "kernelspec": {
   "display_name": "ship",
   "language": "python",
   "name": "python3"
  },
  "language_info": {
   "codemirror_mode": {
    "name": "ipython",
    "version": 3
   },
   "file_extension": ".py",
   "mimetype": "text/x-python",
   "name": "python",
   "nbconvert_exporter": "python",
   "pygments_lexer": "ipython3",
   "version": "3.10.15"
  }
 },
 "nbformat": 4,
 "nbformat_minor": 2
}
