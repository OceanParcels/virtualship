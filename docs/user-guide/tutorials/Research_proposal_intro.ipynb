{
 "cells": [
  {
   "cell_type": "markdown",
   "metadata": {},
   "source": [
    "## Introduction to write an expedition proposal"
   ]
  },
  {
   "cell_type": "markdown",
   "metadata": {},
   "source": [
    "Dear Student, \n",
    "\n",
    "Congratulations on receiving a student research grant for ship time on a scientific research vessel! This achievement is a testament to your hard work and commitment to advancing marine science. The opportunity will undoubtedly enhance your research and contribute significantly to our understanding of marine science.  \n",
    "\n",
    "You will have access to the ship for a three-week period—a duration identified as a favorable trade-off between research time and ensuring an enjoyable vessel experience. Your vessel will be equipped with two vessel-mounted ADCPs, a CTD, and can collect underway data of temperature and salinity from 2 meters below the hull of the ship. In addition, you can deploy XBTs and up to 30 Argo floats and/or 30 surface drifters. A detailed plan of your route, timing and required instruments needs to be sent in for approval/grading. \n",
    "\n",
    "To get a taste of what it’s like to board a real vessel, you'll find some [general information that is shared with all cruise participants here](https://surfdrive.surf.nl/files/index.php/s/i2u2zqNNFECbOlJ)\n",
    "\n",
    "You might also like to watch the video clip about [Life on board a research ship (RRS Discovery)](https://youtu.be/IHM7JFWg9qw?feature=shared) or the one below. \n",
    "\n",
    "<iframe width=\"560\" height=\"315\" src=\"https://www.youtube.com/embed/hUl0TA-gCK0?si=7egcUTtXGAfSOU_S\" title=\"YouTube video player\" frameborder=\"0\" allow=\"accelerometer; autoplay; clipboard-write; encrypted-media; gyroscope; picture-in-picture; web-share\" referrerpolicy=\"strict-origin-when-cross-origin\" allowfullscreen></iframe>"
   ]
  },
  {
   "cell_type": "markdown",
   "metadata": {},
   "source": [
    "In your grant application you’ve shown great potential, so you can choose to do your research [in any of these areas](https://surfdrive.surf.nl/files/index.php/s/808kAVvQUN6bH9u) or discuss your own idea with your teacher.\n",
    "\n",
    "We’ve prepared some exercises to help you get familiar with the type of data that will be collected by the research vessel. Research is typically done on **station** while staying stationary for a period of time, or while moving over a **transect**. So let’s give you some more information on the different scientific instruments first.  \n"
   ]
  },
  {
   "cell_type": "markdown",
   "metadata": {},
   "source": [
    "\n",
    "## Measurement Options"
   ]
  },
  {
   "cell_type": "markdown",
   "metadata": {},
   "source": [
    "### Underway Data \n",
    "\n",
    "Underway data collection, also known as underway sampling, refers to the process of collecting oceanographic and environmental data while a research vessel is in motion. This method allows scientists to continuously gather data on various parameters such as sea surface temperature and salinity. The water inlet is located on the hull of the ship at approximately 2 meters under the surface.\n",
    "\n",
    "You can collect underway data during your entire cruise or on specific transects and may assume it doesn’t take any time to start or stop taking measurements."
   ]
  },
  {
   "cell_type": "markdown",
   "metadata": {},
   "source": [
    "### ADCP \n",
    "\n",
    "An Acoustic Doppler Current Profiler (ADCP) is an instrument used to measure the speed and direction of ocean currents at various depths. It operates based on the principle of Doppler shift, where sound waves emitted by the instrument are reflected off moving particles in the water, such as plankton or sediment, and the frequency shift of the returning waves is used to calculate the velocity of the water.\n",
    "\n",
    "You can deploy the ADCP on transects and choose between a shallow profiler capable of providing information to a depth of 150 m every 4 meters (the 300kHz seaSeven), or a long-range profiler capable of providing about 1000m of range every 24 meters (the 38kHz Ocean Observer). You can collect ADCP data during your entire cruise or on specific transects and may assume it doesn’t take any time to start or end ADCP measurements.\n",
    "\n",
    "<iframe width=\"560\" height=\"315\" src=\"https://www.youtube.com/embed/mDyoZagght8?si=VCXfJC7knpQpR2p9&amp;start=37\" title=\"YouTube video player\" frameborder=\"0\" allow=\"accelerometer; autoplay; clipboard-write; encrypted-media; gyroscope; picture-in-picture; web-share\" referrerpolicy=\"strict-origin-when-cross-origin\" allowfullscreen></iframe>"
   ]
  },
  {
   "cell_type": "markdown",
   "metadata": {},
   "source": [
    "### XBT\n",
    "\n",
    "An eXpendable BathyThermograph (XBT) is a probe that is dropped from a ship and measures the temperature as it falls through the water. The probe is designed to fall at a known rate, so that the depth of the temperature profile can be inferred from the time since it enters the water.\n",
    "\n",
    "You may assume it doesn’t take any time to deploy XBTs.\n",
    "\n",
    "<iframe width=\"560\" height=\"315\" src=\"https://www.youtube.com/embed/gAvxRYCnSXY?si=owx8YEPS-0FBIGSf\" title=\"YouTube video player\" frameborder=\"0\" allow=\"accelerometer; autoplay; clipboard-write; encrypted-media; gyroscope; picture-in-picture; web-share\" referrerpolicy=\"strict-origin-when-cross-origin\" allowfullscreen></iframe>"
   ]
  },
  {
   "cell_type": "markdown",
   "metadata": {},
   "source": [
    "\n",
    "### CTD\n",
    "\n",
    "A Conductivity, Temperature, and Depth (CTD) sensor is an instrument used to measure the physical properties of seawater in oceanographic and environmental research. It typically consists of sensors for conductivity (used to derive salinity), temperature, and pressure (used to derive depth).\n",
    "\n",
    "Throughout a CTD deployment, the research vessels needs to stay in the same location. To calculate the time needed for a CTD deployment, take the following information into account:\n",
    "\n",
    "* Add time to lower the vessels speed to zero and set the vessel to the appropriate direction against swell, current, wind, etc = 10 minutes \n",
    "* Add time to deploy the CTD, and to recover = 10 minutes (2*5 min) \n",
    "* Add time for the way down and up, usually at 1 m/s (winch capacity) = twice your maximum depth (in seconds)\n",
    "\n",
    "<iframe width=\"560\" height=\"315\" src=\"https://www.youtube.com/embed/7N2UsPDczTw\" title=\"YouTube video player\" frameborder=\"0\" allow=\"accelerometer; autoplay; clipboard-write; encrypted-media; gyroscope; picture-in-picture\" allowfullscreen></iframe>"
   ]
  },
  {
   "cell_type": "markdown",
   "metadata": {},
   "source": [
    "### Drifters\n",
    "\n",
    "A surface drifter is an oceanographic instrument used to study surface currents and ocean circulation patterns. These devices are designed to drift passively with the surface currents while transmitting data on their position and sea surface temperature.\n",
    "\n",
    "You may assume it doesn’t take any time to deploy drifters.\n",
    "\n",
    "<iframe width=\"560\" height=\"315\" src=\"https://www.youtube.com/embed/3m_CxEE8Bhs?si=XdyMFAVq9RVxQdcE&amp;start=15\" title=\"YouTube video player\" frameborder=\"0\" allow=\"accelerometer; autoplay; clipboard-write; encrypted-media; gyroscope; picture-in-picture; web-share\" referrerpolicy=\"strict-origin-when-cross-origin\" allowfullscreen></iframe>"
   ]
  },
  {
   "cell_type": "markdown",
   "metadata": {},
   "source": [
    "### Argo floats\n",
    "\n",
    "Argo floats are self-contained, battery-powered instruments equipped with sensors to measure temperature and salinity profiles from the surface down to depths of up to 2000 meters or more. These sensors provide high-resolution vertical profiles of ocean properties, allowing researchers to study ocean variability and climate change.\n",
    "\n",
    "The floats periodically descend to a predetermined depth, typically around 1000 meters, and then ascend to the surface, measuring temperature and salinity profiles along the way.\n",
    "\n",
    "You may assume it doesn’t take any time to deploy Argo floats.\n",
    "\n",
    "<iframe width=\"560\" height=\"315\" src=\"https://www.youtube.com/embed/IgcYQML5se4?si=Y7m1kLqUl14QZfcd\" title=\"YouTube video player\" frameborder=\"0\" allow=\"accelerometer; autoplay; clipboard-write; encrypted-media; gyroscope; picture-in-picture; web-share\" referrerpolicy=\"strict-origin-when-cross-origin\" allowfullscreen></iframe>"
   ]
  },
  {
   "cell_type": "markdown",
   "metadata": {},
   "source": [
    "### Preparation\n",
    "Now that you are familiar with the types of instruments and what type of research you could do with them, it’s time to formulate your own scientific question and methodology. Here are some things to keep in mind: \n",
    "\n",
    "When preparing your cruise proposal, please bear in mind the different lead times between the submission of the proposal and the expedition being carried out. A lead time of roughly one year should be considered for regular proposals, such as this one. The lead time for longer and/or larger expeditions is about one and a half to two years minimum. \n",
    "\n",
    "#### EEZs\n",
    "With respect to time management, please note that diplomatic proposals for research permits in Exclusive Economic Zones (EEZs) of other states must generally be submitted eight months prior to the start of the expedition. Work in difficult areas (for example where there is piracy and the risk of war) must be refrained from. \n",
    "\n",
    "#### Polar work\n",
    "Keep in mind that research vessels have different polar capabilities and it therefore varies in which areas they can operate at different times of the year, depending on ice conditions and minimum allowed air temperature.  \n",
    "\n",
    "#### Transport\n",
    "All equipment required at sea needs to be transferred to the port of departure before leaving. Schedule enough time to prepare and pack your equipment in the office. This includes scientific instruments, sampling bottles, tools, repair material, safety gear, and any other materials essential to your work.  \n",
    "\n",
    "Make sure that your instruments are cleaned and calibrated before packing and ensure that sensors are functioning properly, batteries are charged, and any necessary software is updated.\n",
    "\n",
    "Finally, fit your equipment in the 20-foot container. The container will be sent to your port of departure ahead of time with a cargo boat, so make sure you are packed in time for this transfer. Remember there are no shops at sea, so think carefully and plan ahead. \n",
    "\n",
    "![Equipment preparation NIOZ](https://www.nioz.nl/application/files/9116/7500/3457/2023-01-16-packing.jpg) \n",
    "![Equipment loading](https://www.nioz.nl/application/files/7416/7810/2265/2023-03-06-container-shifting.jpg) "
   ]
  }
 ],
 "metadata": {
  "kernelspec": {
   "display_name": "Python 3 (ipykernel)",
   "language": "python",
   "name": "python3"
  },
  "language_info": {
   "codemirror_mode": {
    "name": "ipython",
    "version": 3
   },
   "file_extension": ".py",
   "mimetype": "text/x-python",
   "name": "python",
   "nbconvert_exporter": "python",
   "pygments_lexer": "ipython3",
   "version": "3.10.15"
  }
 },
 "nbformat": 4,
 "nbformat_minor": 4
}
