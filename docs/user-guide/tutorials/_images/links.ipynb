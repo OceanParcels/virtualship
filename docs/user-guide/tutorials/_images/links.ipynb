{
 "cells": [
  {
   "cell_type": "markdown",
   "metadata": {},
   "source": [
    "[AnnaWeber](AnnaWeber.jpeg)\n",
    "\n",
    "[MFP_planning](MFP.jpg)\n",
    "\n",
    "[MFP_timeline](MFPtimeline.jpg)\n",
    "\n",
    "[Marine_soft_skills](marine_ss.jpg)"
   ]
  }
 ],
 "metadata": {
  "language_info": {
   "name": "python"
  }
 },
 "nbformat": 4,
 "nbformat_minor": 2
}
