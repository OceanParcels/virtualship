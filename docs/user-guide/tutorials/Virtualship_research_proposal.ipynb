{
 "cells": [
  {
   "cell_type": "markdown",
   "metadata": {},
   "source": [
    "# Virtualship Research Proposal"
   ]
  },
  {
   "cell_type": "markdown",
   "metadata": {},
   "source": [
    "***"
   ]
  },
  {
   "cell_type": "markdown",
   "metadata": {},
   "source": [
    "Please read the [Introduction](./Research_proposal_intro.ipynb) and fill out the Proposal below."
   ]
  },
  {
   "cell_type": "markdown",
   "metadata": {},
   "source": [
    "## Proposal "
   ]
  },
  {
   "cell_type": "markdown",
   "metadata": {},
   "source": [
    "### Project Data\n",
    "1. **Title of the proposal**\n",
    "\n",
    "Please choose an appropriate and concise title for the expedition that refers to the work area. \n",
    "\n",
    "2. **Cruise participants**\n",
    "\n",
    "Please provide a list of anticipated cruise participants. Include at least your own names. "
   ]
  },
  {
   "cell_type": "markdown",
   "metadata": {},
   "source": [
    "### Methodology"
   ]
  },
  {
   "cell_type": "markdown",
   "metadata": {},
   "source": [
    "3. **Research question**\n",
    "\n",
    "Please provide a clear and measurable research question. \n",
    "\n",
    "Here are some examples of research you can use as inspiration: \n",
    "\n",
    "[The Irminger Gyre: Circulation, convection, and interannual variability](https://doi.org/10.1016/j.dsr.2011.03.001)\n",
    "\n",
    "[Argo float observations of basin-scale deep convection in the Irminger sea during winter 2011–2012](https://doi.org/10.1016/j.dsr.2015.12.012)\n",
    "\n",
    "\n",
    "<i>Note that your question does not have to be novel. The most important is that it is researchable with the expedition planned here.  <i>"
   ]
  },
  {
   "cell_type": "markdown",
   "metadata": {},
   "source": [
    "4. **Choice of vessel**\n",
    "\n",
    "Please state the preferred research vessel for this cruise. \n",
    "Choose from https://www.nioz.nl/national-marine-facilities/research-vessels \n",
    "\n",
    "If the NIOZ vessels don’t suffice, pick any of the ships available through MFP and explain why you need this ship. https://nioz.marinefacilitiesplanning.com/programme \n"
   ]
  },
  {
   "cell_type": "markdown",
   "metadata": {},
   "source": [
    "5. **Scientific equipment required**\n",
    "   \n",
    "Please tick both on-board and external equipment needed during the cruise. Note that you can only use one of the ADCPs at any time.   \n",
    "<small><i>To check a box, replace [  ] with [x].</i></small>\n",
    "\n",
    "- [ ] Underway Data\n",
    "      \n",
    "- [ ] ADCP (OceanObserver max depth 1000m with data every 24 meters) \n",
    "\n",
    "- [ ] ADCP (SeaSeven max depth 150m with data every 4 meters) \n",
    "\n",
    "- [ ] XBTs\n",
    "\n",
    "- [ ] CTD \n",
    "\n",
    "- [ ] Argo floats \n",
    "\n",
    "- [ ] Drifters \n"
   ]
  },
  {
   "cell_type": "markdown",
   "metadata": {},
   "source": [
    "### Cruise Data\n",
    "\n",
    "A map and cruise plan can be created through [the NIOZ MFP website](https://nioz.marinefacilitiesplanning.com/cruiselocationplanning#)\n",
    "\n",
    "Documentation on how to use the website can be found [here](https://surfdrive.surf.nl/files/index.php/s/84TFmsAAzcSD56F) and you can watch the video below.\n",
    "<iframe width=\"560\" height=\"315\" src=\"https://www.youtube.com/embed/yIpYX2xCvsM?si=sEXq0Zn5z94JJ3yE\" title=\"YouTube video player\" frameborder=\"0\" allow=\"accelerometer; autoplay; clipboard-write; encrypted-media; gyroscope; picture-in-picture; web-share\" referrerpolicy=\"strict-origin-when-cross-origin\" allowfullscreen></iframe>"
   ]
  },
  {
   "cell_type": "markdown",
   "metadata": {},
   "source": [
    "6. **Cruise period**\n",
    "\n",
    "Please state the preferred year, season, and/or month(s) for the cruise, and provide reasons for restrictions to limited periods. Because we are sampling from reanalysis data, dates are limited from 1 Nov 2020 to present. \n"
   ]
  },
  {
   "cell_type": "markdown",
   "metadata": {},
   "source": [
    "7. **Scientific work program**\n",
    "\n",
    "Please upload a screenshot of the MFP website inlcuding port of departure and arrival, all stations (and transects) and total time. Please indicate at each station what instruments you want to deploy (CTD, Argo float, drifter, XBT) and take the deployment time into account. If you plan to use Argo floats, please give the required depth and cycle duration. In case of the CTD the deployment time depends on the depth of the ocean. Note that transit times from the port of departure to the first station and from the last station in the working area to the port of arrival are regarded as work days at sea, so they are deducted from your three-week availability. "
   ]
  },
  {
   "cell_type": "markdown",
   "metadata": {},
   "source": [
    "8. **Working areas / EEZs**\n",
    "\n",
    "Please indicate all nations from which research permits would need to be obtained on the basis of planned work in the respective Exclusive Economic Zones (EEZs)"
   ]
  },
  {
   "cell_type": "markdown",
   "metadata": {},
   "source": [
    "Remember to download your schedule from the MFP website using the Export button on the right in case you want to continue working with it."
   ]
  }
 ],
 "metadata": {
  "kernelspec": {
   "display_name": "Python 3 (ipykernel)",
   "language": "python",
   "name": "python3"
  },
  "language_info": {
   "codemirror_mode": {
    "name": "ipython",
    "version": 3
   },
   "file_extension": ".py",
   "mimetype": "text/x-python",
   "name": "python",
   "nbconvert_exporter": "python",
   "pygments_lexer": "ipython3",
   "version": "3.10.15"
  }
 },
 "nbformat": 4,
 "nbformat_minor": 4
}
